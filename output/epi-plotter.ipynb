{
 "cells": [
  {
   "cell_type": "code",
   "execution_count": 2,
   "metadata": {},
   "outputs": [],
   "source": [
    "import numpy\n",
    "import matplotlib\n",
    "import matplotlib.pyplot as plt\n",
    "import json"
   ]
  },
  {
   "cell_type": "code",
   "execution_count": 71,
   "metadata": {},
   "outputs": [],
   "source": [
    "with open('epi-results.json.json') as file:\n",
    "    data = json.load(file)"
   ]
  },
  {
   "cell_type": "code",
   "execution_count": 38,
   "metadata": {},
   "outputs": [
    {
     "data": {
      "application/vnd.jupyter.widget-view+json": {
       "model_id": "1af3563fe5af492cb4192e5dbd27cd93",
       "version_major": 2,
       "version_minor": 0
      },
      "text/plain": [
       "Canvas(toolbar=Toolbar(toolitems=[('Home', 'Reset original view', 'home', 'home'), ('Back', 'Back to previous …"
      ]
     },
     "metadata": {},
     "output_type": "display_data"
    },
    {
     "data": {
      "text/plain": [
       "[<matplotlib.lines.Line2D at 0x7f8436bffb50>]"
      ]
     },
     "execution_count": 38,
     "metadata": {},
     "output_type": "execute_result"
    }
   ],
   "source": [
    "Nts = data[\"experiment\"][\"Nts\"]\n",
    "hs = data[\"experiment\"][\"hs\"]\n",
    "\n",
    "fig, ax = plt.subplots()\n",
    "for key in data[\"results\"]:\n",
    "   ax.plot(hs, data[\"results\"][key][\"errors\"], '.-')\n",
    "plt.yscale('log')\n",
    "plt.xscale('log')\n",
    "plt.title(\"Error vs Stepsize\")\n",
    "plt.xlabel(\"Stepsize\")\n",
    "plt.ylabel(\"Error\")\n",
    "ax.legend(data[\"results\"].keys())\n",
    "\n",
    "h2 = list(map(lambda x: pow(x,2) / 10**7, hs));\n",
    "h3 = list(map(lambda x: pow(x,3) / 10**12, hs));\n",
    "h4 = list(map(lambda x: pow(x,4) / 10**17, hs));\n",
    "h5 = list(map(lambda x: pow(x,5) / 10**22, hs));\n",
    "\n",
    "ax.plot(hs, h2, 'k--')\n",
    "ax.plot(hs, h3, 'k--')\n",
    "ax.plot(hs, h4, 'k--')\n",
    "ax.plot(hs, h5, 'k--')"
   ]
  },
  {
   "cell_type": "code",
   "execution_count": 39,
   "metadata": {},
   "outputs": [
    {
     "data": {
      "application/vnd.jupyter.widget-view+json": {
       "model_id": "0b1f3604bbf94c77b32e27fbef068165",
       "version_major": 2,
       "version_minor": 0
      },
      "text/plain": [
       "Canvas(toolbar=Toolbar(toolitems=[('Home', 'Reset original view', 'home', 'home'), ('Back', 'Back to previous …"
      ]
     },
     "metadata": {},
     "output_type": "display_data"
    },
    {
     "data": {
      "text/plain": [
       "<matplotlib.legend.Legend at 0x7f8436e10100>"
      ]
     },
     "execution_count": 39,
     "metadata": {},
     "output_type": "execute_result"
    }
   ],
   "source": [
    "fig, ax = plt.subplots()\n",
    "for key in data[\"results\"]:\n",
    "   ax.plot(data[\"results\"][key][\"times\"], data[\"results\"][key][\"errors\"], '.-')\n",
    "plt.yscale('log')\n",
    "plt.xlabel(\"Time (sec)\")\n",
    "plt.ylabel(\"Error\")\n",
    "x_min, x_max = plt.xlim()\n",
    "plt.xlim((0, x_max))\n",
    "ax.legend(data[\"results\"].keys())"
   ]
  }
 ],
 "metadata": {
  "kernelspec": {
   "display_name": "Python 3",
   "language": "python",
   "name": "python3"
  },
  "language_info": {
   "codemirror_mode": {
    "name": "ipython",
    "version": 3
   },
   "file_extension": ".py",
   "mimetype": "text/x-python",
   "name": "python",
   "nbconvert_exporter": "python",
   "pygments_lexer": "ipython3",
   "version": "3.8.6"
  }
 },
 "nbformat": 4,
 "nbformat_minor": 4
}

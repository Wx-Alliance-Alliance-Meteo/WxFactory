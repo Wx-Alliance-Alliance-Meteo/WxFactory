{
 "cells": [
  {
   "cell_type": "code",
   "execution_count": 110,
   "id": "14d0f610-e609-4556-ab45-6bdc9ebdef8b",
   "metadata": {},
   "outputs": [
    {
     "name": "stdout",
     "output_type": "stream",
     "text": [
      "Defaulting to user installation because normal site-packages is not writeable\n",
      "Collecting mpi4py\n",
      "  Using cached mpi4py-3.1.6.tar.gz (2.4 MB)\n",
      "  Installing build dependencies ... \u001b[?25ldone\n",
      "\u001b[?25h  Getting requirements to build wheel ... \u001b[?25ldone\n",
      "\u001b[?25h  Preparing metadata (pyproject.toml) ... \u001b[?25ldone\n",
      "\u001b[?25hBuilding wheels for collected packages: mpi4py\n",
      "  Building wheel for mpi4py (pyproject.toml) ... \u001b[?25ldone\n",
      "\u001b[?25h  Created wheel for mpi4py: filename=mpi4py-3.1.6-cp39-cp39-linux_x86_64.whl size=694671 sha256=0f0dba84bd2bf2d6bed42705fd60dbbdd6f1f20b4757164c3e294addbcc0a91e\n",
      "  Stored in directory: /data/users/jupyter-dam724/.cache/pip/wheels/da/d8/f2/f91d6a59208dfe65710309277b4451b3aa203be4922fc92147\n",
      "Successfully built mpi4py\n",
      "Installing collected packages: mpi4py\n",
      "Successfully installed mpi4py-3.1.6\n",
      "\n",
      "\u001b[1m[\u001b[0m\u001b[34;49mnotice\u001b[0m\u001b[1;39;49m]\u001b[0m\u001b[39;49m A new release of pip is available: \u001b[0m\u001b[31;49m23.2.1\u001b[0m\u001b[39;49m -> \u001b[0m\u001b[32;49m24.1.2\u001b[0m\n",
      "\u001b[1m[\u001b[0m\u001b[34;49mnotice\u001b[0m\u001b[1;39;49m]\u001b[0m\u001b[39;49m To update, run: \u001b[0m\u001b[32;49mpip install --upgrade pip\u001b[0m\n"
     ]
    }
   ],
   "source": [
    "! pip install mpi4py"
   ]
  },
  {
   "cell_type": "code",
   "execution_count": 9,
   "id": "2c56dc3d-d6f3-47c0-b9c6-a1ef1db9548b",
   "metadata": {},
   "outputs": [
    {
     "name": "stdout",
     "output_type": "stream",
     "text": [
      "Defaulting to user installation because normal site-packages is not writeable\n",
      "Collecting typing\n",
      "  Downloading typing-3.7.4.3.tar.gz (78 kB)\n",
      "\u001b[2K     \u001b[90m━━━━━━━━━━━━━━━━━━━━━━━━━━━━━━━━━━━━━━━━\u001b[0m \u001b[32m78.6/78.6 kB\u001b[0m \u001b[31m2.8 MB/s\u001b[0m eta \u001b[36m0:00:00\u001b[0m\n",
      "\u001b[?25h  Preparing metadata (setup.py) ... \u001b[?25ldone\n",
      "\u001b[?25hBuilding wheels for collected packages: typing\n",
      "  Building wheel for typing (setup.py) ... \u001b[?25ldone\n",
      "\u001b[?25h  Created wheel for typing: filename=typing-3.7.4.3-py3-none-any.whl size=26324 sha256=477010257807699e2932e4f46661886505253469463cac0749efda8f2f5e856d\n",
      "  Stored in directory: /data/users/jupyter-dam724/.cache/pip/wheels/fa/17/1f/332799f975d1b2d7f9b3f33bbccf65031e794717d24432caee\n",
      "Successfully built typing\n",
      "Installing collected packages: typing\n",
      "Successfully installed typing-3.7.4.3\n",
      "\n",
      "\u001b[1m[\u001b[0m\u001b[34;49mnotice\u001b[0m\u001b[1;39;49m]\u001b[0m\u001b[39;49m A new release of pip is available: \u001b[0m\u001b[31;49m23.2.1\u001b[0m\u001b[39;49m -> \u001b[0m\u001b[32;49m24.1.2\u001b[0m\n",
      "\u001b[1m[\u001b[0m\u001b[34;49mnotice\u001b[0m\u001b[1;39;49m]\u001b[0m\u001b[39;49m To update, run: \u001b[0m\u001b[32;49mpip install --upgrade pip\u001b[0m\n"
     ]
    }
   ],
   "source": [
    "! pip install typing"
   ]
  },
  {
   "cell_type": "code",
   "execution_count": 1,
   "id": "b470c696-ae6f-4157-94a0-481fce929d28",
   "metadata": {},
   "outputs": [
    {
     "name": "stdout",
     "output_type": "stream",
     "text": [
      "3.11.0 | packaged by conda-forge | (main, Jan 14 2023, 12:27:40) [GCC 11.3.0]\n"
     ]
    }
   ],
   "source": [
    "import sys\n",
    "print(sys.version)"
   ]
  },
  {
   "cell_type": "code",
   "execution_count": 2,
   "id": "05cde71d-66c2-40ef-8f2b-5e247d68a9c0",
   "metadata": {},
   "outputs": [],
   "source": [
    "import typing"
   ]
  },
  {
   "cell_type": "code",
   "execution_count": 3,
   "id": "d23d049f-e0b3-4e4c-9e10-86ab7cc1e701",
   "metadata": {},
   "outputs": [],
   "source": [
    "import configparser\n",
    "import subprocess"
   ]
  },
  {
   "cell_type": "code",
   "execution_count": 4,
   "id": "428f8578-710d-4e15-abb4-4022c95ac1a2",
   "metadata": {},
   "outputs": [],
   "source": [
    "def read_run_number(config_file):\n",
    "    config = configparser.ConfigParser()\n",
    "    config.read(config_file, encoding=\"utf-8\")\n",
    "    run_number = config.getint('General', 'sys_iter')\n",
    "    return run_number"
   ]
  },
  {
   "cell_type": "code",
   "execution_count": 5,
   "id": "8ddf7e67-77af-4d76-85a2-496e9bbfe230",
   "metadata": {},
   "outputs": [],
   "source": [
    "def update_run_number(config_file, new_run_number):\n",
    "    config = configparser.ConfigParser()\n",
    "    config.read(config_file)\n",
    "    config.set('General', 'sys_iter', str(new_run_number))\n",
    "    \n",
    "    with open(config_file, 'w') as configfile:\n",
    "        config.write(configfile)"
   ]
  },
  {
   "cell_type": "code",
   "execution_count": 6,
   "id": "f6de69d2-60fd-4253-8ac4-68f5420cd289",
   "metadata": {},
   "outputs": [],
   "source": [
    "def run_program(config_file, n_processes):\n",
    "    command = [\"mpirun\", \"-n\", str(n_processes), \"/data/users/jupyter-dam724/WxFactory/main_gef.py\", config_file]\n",
    "    subprocess.run(command)"
   ]
  },
  {
   "cell_type": "code",
   "execution_count": 7,
   "id": "9fe22c43-e854-4af6-9268-e9c38ee3d8c8",
   "metadata": {},
   "outputs": [],
   "source": [
    "def main():\n",
    "    config_file = \"/data/users/jupyter-dam724/WxFactory/config/case2.ini\"\n",
    "    n_processes = 6\n",
    "\n",
    "    # Read the current run number\n",
    "    sys_iter = read_run_number(config_file)\n",
    "    print(f\"Current system: {sys_iter}\")\n",
    "\n",
    "    # Increment the run number\n",
    "    new_sys_iter = sys_iter + 1\n",
    "    print(f\"New system: {new_sys_iter}\")\n",
    "\n",
    "    # Update the configuration file with the new run number\n",
    "    update_run_number(config_file, new_sys_iter)\n",
    "\n",
    "    # Run the program\n",
    "    run_program(config_file, n_processes)"
   ]
  },
  {
   "cell_type": "code",
   "execution_count": 10,
   "id": "6a57c8cf-1b87-441b-a63a-65f0436071ce",
   "metadata": {},
   "outputs": [
    {
     "name": "stdout",
     "output_type": "stream",
     "text": [
      "Current system: 6\n",
      "New system: 7\n"
     ]
    },
    {
     "name": "stderr",
     "output_type": "stream",
     "text": [
      "No protocol specified\n",
      "Traceback (most recent call last):\n",
      "  File \"/data/users/jupyter-dam724/WxFactory/main_gef.py\", line 11, in <module>\n",
      "    from common.array_module import ArrayModule\n",
      "  File \"/data/users/jupyter-dam724/WxFactory/common/array_module.py\", line 5, in <module>\n",
      "    from typing import Self, Any, Literal, TypeVar, Sequence, overload\n",
      "ImportError: cannot import name 'Self' from 'typing' (/opt/tljh/user/lib/python3.9/typing.py)\n",
      "Traceback (most recent call last):\n",
      "  File \"/data/users/jupyter-dam724/WxFactory/main_gef.py\", line 11, in <module>\n",
      "    from common.array_module import ArrayModule\n",
      "  File \"/data/users/jupyter-dam724/WxFactory/common/array_module.py\", line 5, in <module>\n",
      "    from typing import Self, Any, Literal, TypeVar, Sequence, overload\n",
      "ImportError: cannot import name 'Self' from 'typing' (/opt/tljh/user/lib/python3.9/typing.py)\n",
      "Traceback (most recent call last):\n",
      "  File \"/data/users/jupyter-dam724/WxFactory/main_gef.py\", line 11, in <module>\n",
      "    from common.array_module import ArrayModule\n",
      "  File \"/data/users/jupyter-dam724/WxFactory/common/array_module.py\", line 5, in <module>\n",
      "    from typing import Self, Any, Literal, TypeVar, Sequence, overload\n",
      "ImportError: cannot import name 'Self' from 'typing' (/opt/tljh/user/lib/python3.9/typing.py)\n",
      "Traceback (most recent call last):\n",
      "  File \"/data/users/jupyter-dam724/WxFactory/main_gef.py\", line 11, in <module>\n",
      "    from common.array_module import ArrayModule\n",
      "  File \"/data/users/jupyter-dam724/WxFactory/common/array_module.py\", line 5, in <module>\n",
      "    from typing import Self, Any, Literal, TypeVar, Sequence, overload\n",
      "ImportError: cannot import name 'Self' from 'typing' (/opt/tljh/user/lib/python3.9/typing.py)\n",
      "Traceback (most recent call last):\n",
      "  File \"/data/users/jupyter-dam724/WxFactory/main_gef.py\", line 11, in <module>\n",
      "    from common.array_module import ArrayModule\n",
      "  File \"/data/users/jupyter-dam724/WxFactory/common/array_module.py\", line 5, in <module>\n",
      "    from typing import Self, Any, Literal, TypeVar, Sequence, overload\n",
      "ImportError: cannot import name 'Self' from 'typing' (/opt/tljh/user/lib/python3.9/typing.py)\n",
      "Traceback (most recent call last):\n",
      "  File \"/data/users/jupyter-dam724/WxFactory/main_gef.py\", line 11, in <module>\n",
      "    from common.array_module import ArrayModule\n",
      "  File \"/data/users/jupyter-dam724/WxFactory/common/array_module.py\", line 5, in <module>\n",
      "    from typing import Self, Any, Literal, TypeVar, Sequence, overload\n",
      "ImportError: cannot import name 'Self' from 'typing' (/opt/tljh/user/lib/python3.9/typing.py)\n",
      "--------------------------------------------------------------------------\n",
      "Primary job  terminated normally, but 1 process returned\n",
      "a non-zero exit code. Per user-direction, the job has been aborted.\n",
      "--------------------------------------------------------------------------\n",
      "--------------------------------------------------------------------------\n",
      "mpirun detected that one or more processes exited with non-zero status, thus causing\n",
      "the job to be terminated. The first process to do so was:\n",
      "\n",
      "  Process name: [[9697,1],2]\n",
      "  Exit code:    1\n",
      "--------------------------------------------------------------------------\n"
     ]
    }
   ],
   "source": [
    "k = main()"
   ]
  },
  {
   "cell_type": "code",
   "execution_count": null,
   "id": "0472b1f8-b353-4ae8-ba1d-0077c2c1f5f1",
   "metadata": {},
   "outputs": [],
   "source": []
  },
  {
   "cell_type": "code",
   "execution_count": null,
   "id": "34854ea0-23ea-40ef-9f5c-4273be49c255",
   "metadata": {},
   "outputs": [],
   "source": []
  }
 ],
 "metadata": {
  "kernelspec": {
   "display_name": "Python3.11 (venv)",
   "language": "python",
   "name": "venv"
  },
  "language_info": {
   "codemirror_mode": {
    "name": "ipython",
    "version": 3
   },
   "file_extension": ".py",
   "mimetype": "text/x-python",
   "name": "python",
   "nbconvert_exporter": "python",
   "pygments_lexer": "ipython3",
   "version": "3.11.0"
  }
 },
 "nbformat": 4,
 "nbformat_minor": 5
}
